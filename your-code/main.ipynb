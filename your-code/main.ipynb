{
 "cells": [
  {
   "cell_type": "markdown",
   "metadata": {},
   "source": [
    "# Before your start:\n",
    "- Read the README.md file\n",
    "- Comment as much as you can and use the resources in the README.md file\n",
    "- Happy learning!"
   ]
  },
  {
   "cell_type": "code",
   "execution_count": 25,
   "metadata": {
    "tags": []
   },
   "outputs": [],
   "source": [
    "import math"
   ]
  },
  {
   "cell_type": "markdown",
   "metadata": {},
   "source": [
    "# Challenge 1 - Handling Errors Using `try` and `except`\n",
    "\n",
    "The `try` and `except` clauses create a block for handling exceptions. When we wrap code in this block, we first attempt the code in the `try` and if an error is thrown, we can handle specific errors or all errors in the `except` portion.\n",
    "\n",
    "In the 4 cells below, modify the code to catch the error and print a meaningful message that will alert the user what went wrong. You may catch the error using a general `except` or a specific `except` for the error caused by the code."
   ]
  },
  {
   "cell_type": "code",
   "execution_count": 6,
   "metadata": {
    "tags": []
   },
   "outputs": [
    {
     "name": "stdout",
     "output_type": "stream",
     "text": [
      "some_string no se ha definido\n"
     ]
    }
   ],
   "source": [
    "# Modify the code below:\n",
    "try:\n",
    "    print(some_string)\n",
    "except SyntaxError:\n",
    "    print(\"Hay un error de sintaxis\")\n",
    "except NameError:\n",
    "    print(\"some_string no se ha definido\")"
   ]
  },
  {
   "cell_type": "code",
   "execution_count": 13,
   "metadata": {
    "tags": []
   },
   "outputs": [
    {
     "name": "stdout",
     "output_type": "stream",
     "text": [
      "No se pueden multiplicar str\n"
     ]
    }
   ],
   "source": [
    "# Modify the code below:\n",
    "try:\n",
    "    for i in ['a','b','c']:\n",
    "        print (i**2)\n",
    "except TypeError:\n",
    "    print(\"No se pueden multiplicar str\")"
   ]
  },
  {
   "cell_type": "code",
   "execution_count": 15,
   "metadata": {
    "tags": []
   },
   "outputs": [
    {
     "name": "stdout",
     "output_type": "stream",
     "text": [
      "No se puede dividir por 0\n"
     ]
    }
   ],
   "source": [
    "# Modify the code below:\n",
    "try:\n",
    "    x = 5\n",
    "    y = 0\n",
    "    z = x/y\n",
    "except ZeroDivisionError:\n",
    "    print(\"No se puede dividir por 0\")"
   ]
  },
  {
   "cell_type": "code",
   "execution_count": 17,
   "metadata": {
    "tags": []
   },
   "outputs": [
    {
     "name": "stdout",
     "output_type": "stream",
     "text": [
      "Indice incorrecto\n"
     ]
    }
   ],
   "source": [
    "# Modify the code below:\n",
    "try:\n",
    "    abc=[10,20,20]\n",
    "    print(abc[3])\n",
    "except IndexError:\n",
    "    print(\"Indice incorrecto\")"
   ]
  },
  {
   "cell_type": "markdown",
   "metadata": {},
   "source": [
    "# Challenge 2 - Handling Errors Using `if` Statements\n",
    "\n",
    "In many cases, we are able to identify issues that may come up in our code and handle those handlful of issues with an `if` statment. Sometimes we would like to handle different types of inputs and are aware that later in the code, we will have to write two different branches of code for the two different cases we allowed in the beginning.\n",
    "\n",
    "In the 3 cells below, add an `if` statment that will handle both types of input allowed in the functions."
   ]
  },
  {
   "cell_type": "code",
   "execution_count": 29,
   "metadata": {},
   "outputs": [
    {
     "name": "stdout",
     "output_type": "stream",
     "text": [
      "El numero es negativo\n"
     ]
    }
   ],
   "source": [
    "# Modify the code below to handle positive and negative numbers by adding an if statement and performing a transformation:\n",
    "\n",
    "def sqrt_for_all(x):\n",
    "    # This function will take any real number and return the square root of its magnitude\n",
    "    # Input: real number\n",
    "    # Output: real number\n",
    "    \n",
    "    # Sample Input: -4\n",
    "    # Sample Output: 2.0\n",
    "    if x < 0:\n",
    "        print(\"El numero es negativo\")\n",
    "    else:\n",
    "        return math.sqrt(x)\n",
    "\n",
    "sqrt_for_all(-4)"
   ]
  },
  {
   "cell_type": "code",
   "execution_count": 30,
   "metadata": {},
   "outputs": [
    {
     "data": {
      "text/plain": [
       "2.0"
      ]
     },
     "execution_count": 30,
     "metadata": {},
     "output_type": "execute_result"
    }
   ],
   "source": [
    "sqrt_for_all(4)"
   ]
  },
  {
   "cell_type": "code",
   "execution_count": 27,
   "metadata": {},
   "outputs": [
    {
     "name": "stdout",
     "output_type": "stream",
     "text": [
      "No se se puede dividir por 0\n"
     ]
    }
   ],
   "source": [
    "# Modify the code below to handle zero as well. In the case of zero, return zero\n",
    "\n",
    "def divide(x, y):\n",
    "    # This function will take any two real numbers and return their quotient. If the denominator is zero, we return zero\n",
    "    # Input: real number\n",
    "    # Output: real number\n",
    "    \n",
    "    # Sample Input: 5, 1\n",
    "    # Sample Output: 5.0\n",
    "    if y == 0:\n",
    "        print(\"No se se puede dividir por 0\")\n",
    "    else:\n",
    "        return x / y\n",
    "\n",
    "divide(5, 0)"
   ]
  },
  {
   "cell_type": "code",
   "execution_count": 28,
   "metadata": {},
   "outputs": [
    {
     "data": {
      "text/plain": [
       "5.0"
      ]
     },
     "execution_count": 28,
     "metadata": {},
     "output_type": "execute_result"
    }
   ],
   "source": [
    "divide(5, 1)"
   ]
  },
  {
   "cell_type": "code",
   "execution_count": 58,
   "metadata": {},
   "outputs": [
    {
     "name": "stdout",
     "output_type": "stream",
     "text": [
      "None\n"
     ]
    }
   ],
   "source": [
    "# Modify the function below that it will take either an number and a list or two numbers. \n",
    "# If we take two numbers, add them together and return a list of length 1. \n",
    "# Otherwise, add the number to every element of the list and return the resulting list\n",
    "\n",
    "def add_elements(x,y):\n",
    "    # This function takes either two numbers or a list and a number and adds the number to all elements of the list\n",
    "    # If the function only takes two numbers, it returns a list of length one that is the sum of the numbers\n",
    "    \n",
    "    # Input: number and list or two numbers\n",
    "    # Output: list\n",
    "    \n",
    "    # Sample Input: 5, 6\n",
    "    # Sample Output: [11]\n",
    "    lista_resultado = []\n",
    "    if type(x) and type(y) is list:\n",
    "        print(\"los dos son listas\")\n",
    "    elif type(x) is list and type(y) is not list:\n",
    "        for i in x:\n",
    "            lista_resultado.append(i*a)\n",
    "        return lista_resultado\n",
    "    elif type(y) is list and type(x) is not list:\n",
    "        for i in y:\n",
    "            lista_resultado.append(i*a)\n",
    "        return lista_resultado\n",
    "        #print(\"la lista resultado de multiplicar la lista por el numero es: \",lista_resultado)\n",
    "    #return [a + element for element in l]\n",
    "        \n",
    "print(add_elements(5, 6))"
   ]
  },
  {
   "cell_type": "code",
   "execution_count": 34,
   "metadata": {},
   "outputs": [
    {
     "name": "stdout",
     "output_type": "stream",
     "text": [
      "numero\n"
     ]
    }
   ],
   "source": [
    "x = []\n",
    "y = 5\n",
    "if type(x) and type(y) is list:\n",
    "    print(\"lista\")\n",
    "else:\n",
    "    print(\"numero\")"
   ]
  },
  {
   "cell_type": "code",
   "execution_count": 59,
   "metadata": {},
   "outputs": [
    {
     "name": "stdout",
     "output_type": "stream",
     "text": [
      "[2, 4]\n"
     ]
    }
   ],
   "source": [
    "l = [1,2]\n",
    "a = 2\n",
    "lista_resultado = []\n",
    "for i in l:\n",
    "    lista_resultado.append(i*a)\n",
    "print(lista_resultado)"
   ]
  },
  {
   "cell_type": "code",
   "execution_count": 62,
   "metadata": {},
   "outputs": [
    {
     "name": "stdout",
     "output_type": "stream",
     "text": [
      "[2, 4]\n"
     ]
    }
   ],
   "source": [
    "x = [1,2]\n",
    "y = 5\n",
    "if type(x) and type(y) is list:\n",
    "    print(\"son listas\")\n",
    "else:\n",
    "    lista_resultado = []\n",
    "    for i in l:\n",
    "        lista_resultado.append(i*a)\n",
    "    print(lista_resultado)"
   ]
  },
  {
   "cell_type": "code",
   "execution_count": 8,
   "metadata": {},
   "outputs": [
    {
     "name": "stdout",
     "output_type": "stream",
     "text": [
      "<class 'int'>\n",
      "[6]\n"
     ]
    }
   ],
   "source": [
    "l = 6\n",
    "type(l) == int\n",
    "print(type(l))\n",
    "\n",
    "lst = [int(x) for x in str(l)]\n",
    "print(lst)"
   ]
  },
  {
   "cell_type": "code",
   "execution_count": 6,
   "metadata": {},
   "outputs": [
    {
     "data": {
      "text/plain": [
       "[11]"
      ]
     },
     "execution_count": 6,
     "metadata": {},
     "output_type": "execute_result"
    }
   ],
   "source": [
    "def add_elements(a, l):\n",
    "    \"\"\"\n",
    "    This function takes either two numbers or a list and a number \n",
    "    and adds the number to all elements of the list.\n",
    "    If the function only takes two numbers, it returns a list \n",
    "    of length one that is the sum of the numbers.\n",
    "    \n",
    "    Input: number and list or two numbers\n",
    "    Output: list\n",
    "    \n",
    "    Sample Input: 5, 6\n",
    "    Sample Output: [11]\n",
    "    \"\"\"\n",
    "    if type(l) == int:\n",
    "        l = [int(x) for x in str(l)]\n",
    "    return [a + element for element in l]\n",
    "        \n",
    "add_elements(5, 6)"
   ]
  },
  {
   "cell_type": "markdown",
   "metadata": {},
   "source": [
    "# Challenge 3 - Fixing Errors to Get Code to Run\n",
    "\n",
    "Sometimes the error is not caused by the input but by the code itself. In the 2 following cells below, examine the error and correct the code to avoid the error."
   ]
  },
  {
   "cell_type": "code",
   "execution_count": 11,
   "metadata": {
    "tags": []
   },
   "outputs": [
    {
     "ename": "SyntaxError",
     "evalue": "unexpected EOF while parsing (Temp/ipykernel_14736/434982349.py, line 5)",
     "output_type": "error",
     "traceback": [
      "\u001b[1;36m  File \u001b[1;32m\"C:\\Users\\brend\\AppData\\Local\\Temp/ipykernel_14736/434982349.py\"\u001b[1;36m, line \u001b[1;32m5\u001b[0m\n\u001b[1;33m    sum([element + 1 for element in l]\u001b[0m\n\u001b[1;37m                                      ^\u001b[0m\n\u001b[1;31mSyntaxError\u001b[0m\u001b[1;31m:\u001b[0m unexpected EOF while parsing\n"
     ]
    }
   ],
   "source": [
    "# Modify the code below:\n",
    "\n",
    "l = [1,2,3,4]\n",
    "\n",
    "sum([element + 1 for element in l]  #falta cerrar el paréntesis"
   ]
  },
  {
   "cell_type": "code",
   "execution_count": 12,
   "metadata": {},
   "outputs": [
    {
     "data": {
      "text/plain": [
       "14"
      ]
     },
     "execution_count": 12,
     "metadata": {},
     "output_type": "execute_result"
    }
   ],
   "source": [
    "l = [1,2,3,4]\n",
    "\n",
    "sum([element + 1 for element in l])  #falta cerrar el paréntesis"
   ]
  },
  {
   "cell_type": "code",
   "execution_count": 13,
   "metadata": {
    "tags": []
   },
   "outputs": [
    {
     "ename": "TypeError",
     "evalue": "can only concatenate str (not \"int\") to str",
     "output_type": "error",
     "traceback": [
      "\u001b[1;31m---------------------------------------------------------------------------\u001b[0m",
      "\u001b[1;31mTypeError\u001b[0m                                 Traceback (most recent call last)",
      "\u001b[1;32m~\\AppData\\Local\\Temp/ipykernel_14736/3523191418.py\u001b[0m in \u001b[0;36m<module>\u001b[1;34m\u001b[0m\n\u001b[0;32m      4\u001b[0m \u001b[1;33m\u001b[0m\u001b[0m\n\u001b[0;32m      5\u001b[0m \u001b[1;32mfor\u001b[0m \u001b[0melement\u001b[0m \u001b[1;32min\u001b[0m \u001b[0ml\u001b[0m\u001b[1;33m:\u001b[0m\u001b[1;33m\u001b[0m\u001b[1;33m\u001b[0m\u001b[0m\n\u001b[1;32m----> 6\u001b[1;33m     \u001b[0mprint\u001b[0m\u001b[1;33m(\u001b[0m\u001b[1;34m\"The current element in the loop is\"\u001b[0m \u001b[1;33m+\u001b[0m \u001b[0melement\u001b[0m\u001b[1;33m)\u001b[0m\u001b[1;33m\u001b[0m\u001b[1;33m\u001b[0m\u001b[0m\n\u001b[0m",
      "\u001b[1;31mTypeError\u001b[0m: can only concatenate str (not \"int\") to str"
     ]
    }
   ],
   "source": [
    "# Modify the code below:\n",
    "\n",
    "l = [1,2,3,4]\n",
    "\n",
    "for element in l:\n",
    "    print(\"The current element in the loop is\" + element)"
   ]
  },
  {
   "cell_type": "code",
   "execution_count": 15,
   "metadata": {},
   "outputs": [
    {
     "name": "stdout",
     "output_type": "stream",
     "text": [
      "The current element in the loop is1\n",
      "The current element in the loop is2\n",
      "The current element in the loop is3\n",
      "The current element in the loop is4\n"
     ]
    }
   ],
   "source": [
    "l = [1,2,3,4]\n",
    "\n",
    "for element in l:\n",
    "    print(\"The current element in the loop is\" + str(element))"
   ]
  },
  {
   "cell_type": "markdown",
   "metadata": {},
   "source": [
    "# Challenge 4 - Raise Errors on Your Own\n",
    "\n",
    "There are cases where you need to alert your users of a problem even if the input will not immediately produce an error. In these cases you may want to throw an error yourself to bring attention to the problem. In the 2 cells below, write the functions as directed and add the appropriate errors using the `raise` clause. Make sure to add a meaningful error message."
   ]
  },
  {
   "cell_type": "code",
   "execution_count": 30,
   "metadata": {},
   "outputs": [
    {
     "data": {
      "text/plain": [
       "3.2188758248682006"
      ]
     },
     "execution_count": 30,
     "metadata": {},
     "output_type": "execute_result"
    }
   ],
   "source": [
    "def log_square(x):\n",
    "    '''This function takes a numeric value and returns the natural log of the square of the number \n",
    "    The function raises an error if the number is equal to zero\n",
    "    Use the math.log function in this funtion\n",
    "    \n",
    "    Input: real number\n",
    "    Output: real number or error\n",
    "    \n",
    "    Sample Input: 5\n",
    "    Sample Output: 3.21887\n",
    "    '''\n",
    "    if x == 0:\n",
    "        raise ValueError\n",
    "    else:\n",
    "        return math.log(x*x)\n",
    "log_square(5)"
   ]
  },
  {
   "cell_type": "code",
   "execution_count": 31,
   "metadata": {},
   "outputs": [
    {
     "ename": "ValueError",
     "evalue": "",
     "output_type": "error",
     "traceback": [
      "\u001b[1;31m---------------------------------------------------------------------------\u001b[0m",
      "\u001b[1;31mValueError\u001b[0m                                Traceback (most recent call last)",
      "\u001b[1;32m~\\AppData\\Local\\Temp/ipykernel_14736/584110481.py\u001b[0m in \u001b[0;36m<module>\u001b[1;34m\u001b[0m\n\u001b[1;32m----> 1\u001b[1;33m \u001b[0mlog_square\u001b[0m\u001b[1;33m(\u001b[0m\u001b[1;36m0\u001b[0m\u001b[1;33m)\u001b[0m\u001b[1;33m\u001b[0m\u001b[1;33m\u001b[0m\u001b[0m\n\u001b[0m",
      "\u001b[1;32m~\\AppData\\Local\\Temp/ipykernel_14736/621762227.py\u001b[0m in \u001b[0;36mlog_square\u001b[1;34m(x)\u001b[0m\n\u001b[0;32m     11\u001b[0m     '''\n\u001b[0;32m     12\u001b[0m     \u001b[1;32mif\u001b[0m \u001b[0mx\u001b[0m \u001b[1;33m==\u001b[0m \u001b[1;36m0\u001b[0m\u001b[1;33m:\u001b[0m\u001b[1;33m\u001b[0m\u001b[1;33m\u001b[0m\u001b[0m\n\u001b[1;32m---> 13\u001b[1;33m         \u001b[1;32mraise\u001b[0m \u001b[0mValueError\u001b[0m\u001b[1;33m\u001b[0m\u001b[1;33m\u001b[0m\u001b[0m\n\u001b[0m\u001b[0;32m     14\u001b[0m     \u001b[1;32melse\u001b[0m\u001b[1;33m:\u001b[0m\u001b[1;33m\u001b[0m\u001b[1;33m\u001b[0m\u001b[0m\n\u001b[0;32m     15\u001b[0m         \u001b[1;32mreturn\u001b[0m \u001b[0mmath\u001b[0m\u001b[1;33m.\u001b[0m\u001b[0mlog\u001b[0m\u001b[1;33m(\u001b[0m\u001b[0mx\u001b[0m\u001b[1;33m*\u001b[0m\u001b[0mx\u001b[0m\u001b[1;33m)\u001b[0m\u001b[1;33m\u001b[0m\u001b[1;33m\u001b[0m\u001b[0m\n",
      "\u001b[1;31mValueError\u001b[0m: "
     ]
    }
   ],
   "source": [
    "log_square(0)"
   ]
  },
  {
   "cell_type": "code",
   "execution_count": 40,
   "metadata": {
    "tags": []
   },
   "outputs": [
    {
     "data": {
      "text/plain": [
       "True"
      ]
     },
     "execution_count": 40,
     "metadata": {},
     "output_type": "execute_result"
    }
   ],
   "source": [
    "import re  #regex library\n",
    "x = 'John'\n",
    "\n",
    "def check_capital(x):\n",
    "    '''\n",
    "    This function returns true if the string contains at least one capital letter and throws an error otherwise\n",
    "    Input: string\n",
    "    Output: bool or error message\n",
    "    \n",
    "    Sample Input: 'John'\n",
    "    Sample Output: True\n",
    "    '''\n",
    "    if re.findall('[A-Z]', x) == []:\n",
    "        print(\"No hay letras en el string\")\n",
    "    else:\n",
    "        return True\n",
    "\n",
    "check_capital(x)"
   ]
  },
  {
   "cell_type": "code",
   "execution_count": 41,
   "metadata": {},
   "outputs": [
    {
     "name": "stdout",
     "output_type": "stream",
     "text": [
      "True\n"
     ]
    }
   ],
   "source": [
    "x = 'John'\n",
    "#regex capital letter: [A-Z]\n",
    "if re.findall('[A-Z]', x) == []:\n",
    "    print(\"No hay letras en el string\")\n",
    "else:\n",
    "    print(True)"
   ]
  },
  {
   "cell_type": "markdown",
   "metadata": {},
   "source": [
    "# Bonus Challenge - Optional Types\n",
    "\n",
    "The optional type is a data type that allows a variable to be either a defined type (like integer, string, etc.) or None. Optional types are defined in the `typing` library. They allow us to transition Python to a statically typed language (as far as our syntax goes). To read more about the `typing` library, click [here](https://docs.python.org/3/library/typing.html#typing.Optional). \n",
    "\n",
    "In the cell below, use the optional type to write a function that can handle both floats and `None` type. This function converts Celcius to Fahrenheit. If we pass `None` to the function, we should return `None`, otherwise, we will compute the converted temperature"
   ]
  },
  {
   "cell_type": "code",
   "execution_count": null,
   "metadata": {
    "collapsed": true,
    "jupyter": {
     "outputs_hidden": true
    }
   },
   "outputs": [],
   "source": [
    "from typing import Optional\n",
    "\n",
    "def temp_convert(arg: Optional[float]) -> Optional[float]:\n",
    "    # This function takes either float or None and returns either None or a converted temperature\n",
    "    # Input: Optional[float]\n",
    "    # Output: Optional[float]\n",
    "    \n",
    "    # Sample Input: 5\n",
    "    # Sample Output: 41.0\n",
    "    \n",
    "    #Your Code here:\n",
    "        "
   ]
  }
 ],
 "metadata": {
  "kernelspec": {
   "display_name": "Python 3 (ipykernel)",
   "language": "python",
   "name": "python3"
  },
  "language_info": {
   "codemirror_mode": {
    "name": "ipython",
    "version": 3
   },
   "file_extension": ".py",
   "mimetype": "text/x-python",
   "name": "python",
   "nbconvert_exporter": "python",
   "pygments_lexer": "ipython3",
   "version": "3.9.7"
  }
 },
 "nbformat": 4,
 "nbformat_minor": 4
}
